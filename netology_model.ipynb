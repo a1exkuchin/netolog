{
 "cells": [
  {
   "cell_type": "markdown",
   "metadata": {
    "id": "qb_ajqWXuguV"
   },
   "source": [
    "## Загрузим нужные библиотеки"
   ]
  },
  {
   "cell_type": "code",
   "execution_count": 1,
   "metadata": {
    "executionInfo": {
     "elapsed": 334,
     "status": "ok",
     "timestamp": 1659607179671,
     "user": {
      "displayName": "Алексей Кучин",
      "userId": "12080689064090485602"
     },
     "user_tz": -300
    },
    "id": "MTgpe_1quUDs"
   },
   "outputs": [],
   "source": [
    "# Standard python libraries\n",
    "import os\n",
    "import time\n",
    "\n",
    "# DS libraries\n",
    "import pandas as pd\n",
    "import seaborn as sns\n",
    "import matplotlib.pyplot as plt\n",
    "import torch\n",
    "import numpy as np\n",
    "\n",
    "# LightAutoML presets, task and report generation\n",
    "from lightautoml.automl.presets.tabular_presets import TabularAutoML, TabularUtilizedAutoML\n",
    "from lightautoml.tasks import Task\n",
    "from lightautoml.report.report_deco import ReportDeco\n",
    "\n",
    "# ML libraries\n",
    "from sklearn.model_selection import train_test_split\n",
    "from sklearn.metrics import recall_score, precision_score\n",
    "\n",
    "%matplotlib inline"
   ]
  },
  {
   "cell_type": "code",
   "execution_count": 9,
   "metadata": {
    "executionInfo": {
     "elapsed": 1390,
     "status": "ok",
     "timestamp": 1659607190372,
     "user": {
      "displayName": "Алексей Кучин",
      "userId": "12080689064090485602"
     },
     "user_tz": -300
    },
    "id": "o9N4JbcWudk2"
   },
   "outputs": [],
   "source": [
    "df = pd.read_csv(\"train.csv\")\n",
    "mass_object = df.dtypes[df.dtypes == \"object\"].index.values"
   ]
  },
  {
   "cell_type": "markdown",
   "metadata": {
    "id": "GgCS5B_PutbW"
   },
   "source": [
    "## Трансформируем данные"
   ]
  },
  {
   "cell_type": "code",
   "execution_count": 10,
   "metadata": {
    "executionInfo": {
     "elapsed": 416,
     "status": "ok",
     "timestamp": 1659607204995,
     "user": {
      "displayName": "Алексей Кучин",
      "userId": "12080689064090485602"
     },
     "user_tz": -300
    },
    "id": "sWf6o_06uei9"
   },
   "outputs": [],
   "source": [
    "df = df.fillna(0)"
   ]
  },
  {
   "cell_type": "code",
   "execution_count": 11,
   "metadata": {},
   "outputs": [],
   "source": [
    "df.astype({'month_id': str})\n",
    "df['month'] = df['month_id'].apply(lambda x: int(x.split('/')[0]))\n",
    "\n",
    "df['promo_bin'] = df['promo'].apply(lambda x: -1 if str(x)=='-' else 1)\n",
    "\n",
    "df['ABC_num'] = df['ABC'].apply(lambda x: ord(x)-ord('A'))\n",
    "\n",
    "df = df.drop(mass_object, axis = 1)"
   ]
  },
  {
   "cell_type": "code",
   "execution_count": 12,
   "metadata": {},
   "outputs": [
    {
     "name": "stdout",
     "output_type": "stream",
     "text": [
      "<class 'pandas.core.frame.DataFrame'>\n",
      "RangeIndex: 200000 entries, 0 to 199999\n",
      "Data columns (total 52 columns):\n",
      " #   Column                     Non-Null Count   Dtype  \n",
      "---  ------                     --------------   -----  \n",
      " 0   id                         200000 non-null  int64  \n",
      " 1   age_indicator              200000 non-null  float64\n",
      " 2   student_id                 200000 non-null  int64  \n",
      " 3   program_id                 200000 non-null  int64  \n",
      " 4   spent_time_total           200000 non-null  float64\n",
      " 5   spent_time_to_complete_hw  200000 non-null  float64\n",
      " 6   completed_hw               200000 non-null  float64\n",
      " 7   failed_hw                  200000 non-null  float64\n",
      " 8   reworked_hw                200000 non-null  float64\n",
      " 9   interacted_hw              200000 non-null  float64\n",
      " 10  avg_hw_mark                200000 non-null  float64\n",
      " 11  test_with_good_mark        200000 non-null  float64\n",
      " 12  test_with_great_mark       200000 non-null  float64\n",
      " 13  webinars                   200000 non-null  float64\n",
      " 14  avg_quiz_result            200000 non-null  float64\n",
      " 15  notes                      200000 non-null  float64\n",
      " 16  hw_leader                  200000 non-null  float64\n",
      " 17  lessons                    200000 non-null  float64\n",
      " 18  activity                   200000 non-null  float64\n",
      " 19  bought_d1                  200000 non-null  int64  \n",
      " 20  bought_d2                  200000 non-null  int64  \n",
      " 21  bought_d3                  200000 non-null  int64  \n",
      " 22  bought_d4                  200000 non-null  int64  \n",
      " 23  bought_d5                  200000 non-null  int64  \n",
      " 24  bought_avg_duration        200000 non-null  float64\n",
      " 25  payment_type               200000 non-null  int64  \n",
      " 26  price                      200000 non-null  float64\n",
      " 27  auto_payment               200000 non-null  int64  \n",
      " 28  gender                     200000 non-null  float64\n",
      " 29  speed_recall               200000 non-null  float64\n",
      " 30  m_avg_talk_duration        200000 non-null  float64\n",
      " 31  m_avg_duration             200000 non-null  float64\n",
      " 32  m_missed_calls             200000 non-null  float64\n",
      " 33  m_total_calls              200000 non-null  float64\n",
      " 34  m_was_conversations        200000 non-null  float64\n",
      " 35  m_total_duration           200000 non-null  float64\n",
      " 36  p_avg_talk_duration        200000 non-null  float64\n",
      " 37  p_avg_duration             200000 non-null  float64\n",
      " 38  p_missed_calls             200000 non-null  float64\n",
      " 39  p_total_calls              200000 non-null  float64\n",
      " 40  p_was_conversations        200000 non-null  float64\n",
      " 41  p_total_duration           200000 non-null  float64\n",
      " 42  support_feedback_avg       200000 non-null  float64\n",
      " 43  feedback_avg_d1            200000 non-null  float64\n",
      " 44  feedback_avg_d2            200000 non-null  float64\n",
      " 45  feedback_avg_d3            200000 non-null  float64\n",
      " 46  feedback_avg_d4            200000 non-null  float64\n",
      " 47  feedback_avg_d5            200000 non-null  float64\n",
      " 48  target                     200000 non-null  int64  \n",
      " 49  month                      200000 non-null  int64  \n",
      " 50  promo_bin                  200000 non-null  int64  \n",
      " 51  ABC_num                    200000 non-null  int64  \n",
      "dtypes: float64(38), int64(14)\n",
      "memory usage: 79.3 MB\n"
     ]
    }
   ],
   "source": [
    "df.info()"
   ]
  },
  {
   "cell_type": "markdown",
   "metadata": {
    "id": "X_HOvpXy2e3S"
   },
   "source": [
    "## Обучим модель"
   ]
  },
  {
   "cell_type": "code",
   "execution_count": 13,
   "metadata": {
    "executionInfo": {
     "elapsed": 496,
     "status": "ok",
     "timestamp": 1659607235239,
     "user": {
      "displayName": "Алексей Кучин",
      "userId": "12080689064090485602"
     },
     "user_tz": -300
    },
    "id": "jLa-kmv-eppD"
   },
   "outputs": [],
   "source": [
    "N_THREADS = 4\n",
    "N_FOLDS = 5\n",
    "RANDOM_STATE = 42\n",
    "TEST_SIZE = 0.2\n",
    "TIMEOUT = 500\n",
    "TARGET_NAME = 'target'"
   ]
  },
  {
   "cell_type": "code",
   "execution_count": 14,
   "metadata": {
    "executionInfo": {
     "elapsed": 338,
     "status": "ok",
     "timestamp": 1659607255687,
     "user": {
      "displayName": "Алексей Кучин",
      "userId": "12080689064090485602"
     },
     "user_tz": -300
    },
    "id": "_x6pIVPIfziN"
   },
   "outputs": [],
   "source": [
    "np.random.seed(RANDOM_STATE)\n",
    "torch.set_num_threads(N_THREADS)"
   ]
  },
  {
   "cell_type": "code",
   "execution_count": 15,
   "metadata": {
    "colab": {
     "base_uri": "https://localhost:8080/",
     "height": 317
    },
    "executionInfo": {
     "elapsed": 2482,
     "status": "ok",
     "timestamp": 1659607260733,
     "user": {
      "displayName": "Алексей Кучин",
      "userId": "12080689064090485602"
     },
     "user_tz": -300
    },
    "id": "PubFoz8ySZz8",
    "outputId": "63e0c315-5bc7-4b71-8535-172e682aa1d0"
   },
   "outputs": [
    {
     "name": "stdout",
     "output_type": "stream",
     "text": [
      "Data splitted. Parts sizes: tr_data = (160000, 52), te_data = (40000, 52)\n"
     ]
    },
    {
     "data": {
      "text/html": [
       "<div>\n",
       "<style scoped>\n",
       "    .dataframe tbody tr th:only-of-type {\n",
       "        vertical-align: middle;\n",
       "    }\n",
       "\n",
       "    .dataframe tbody tr th {\n",
       "        vertical-align: top;\n",
       "    }\n",
       "\n",
       "    .dataframe thead th {\n",
       "        text-align: right;\n",
       "    }\n",
       "</style>\n",
       "<table border=\"1\" class=\"dataframe\">\n",
       "  <thead>\n",
       "    <tr style=\"text-align: right;\">\n",
       "      <th></th>\n",
       "      <th>id</th>\n",
       "      <th>age_indicator</th>\n",
       "      <th>student_id</th>\n",
       "      <th>program_id</th>\n",
       "      <th>spent_time_total</th>\n",
       "      <th>spent_time_to_complete_hw</th>\n",
       "      <th>completed_hw</th>\n",
       "      <th>failed_hw</th>\n",
       "      <th>reworked_hw</th>\n",
       "      <th>interacted_hw</th>\n",
       "      <th>...</th>\n",
       "      <th>support_feedback_avg</th>\n",
       "      <th>feedback_avg_d1</th>\n",
       "      <th>feedback_avg_d2</th>\n",
       "      <th>feedback_avg_d3</th>\n",
       "      <th>feedback_avg_d4</th>\n",
       "      <th>feedback_avg_d5</th>\n",
       "      <th>target</th>\n",
       "      <th>month</th>\n",
       "      <th>promo_bin</th>\n",
       "      <th>ABC_num</th>\n",
       "    </tr>\n",
       "  </thead>\n",
       "  <tbody>\n",
       "    <tr>\n",
       "      <th>185667</th>\n",
       "      <td>142763</td>\n",
       "      <td>3.0</td>\n",
       "      <td>6933216</td>\n",
       "      <td>549</td>\n",
       "      <td>40.0</td>\n",
       "      <td>0.0</td>\n",
       "      <td>0.0</td>\n",
       "      <td>0.0</td>\n",
       "      <td>0.0</td>\n",
       "      <td>2.0</td>\n",
       "      <td>...</td>\n",
       "      <td>0.0</td>\n",
       "      <td>0.0</td>\n",
       "      <td>0.000</td>\n",
       "      <td>0.0</td>\n",
       "      <td>5.0</td>\n",
       "      <td>0.0</td>\n",
       "      <td>0</td>\n",
       "      <td>9</td>\n",
       "      <td>-1</td>\n",
       "      <td>3</td>\n",
       "    </tr>\n",
       "    <tr>\n",
       "      <th>143045</th>\n",
       "      <td>168772</td>\n",
       "      <td>14.0</td>\n",
       "      <td>6770745</td>\n",
       "      <td>643</td>\n",
       "      <td>0.0</td>\n",
       "      <td>0.0</td>\n",
       "      <td>0.0</td>\n",
       "      <td>0.0</td>\n",
       "      <td>0.0</td>\n",
       "      <td>0.0</td>\n",
       "      <td>...</td>\n",
       "      <td>0.0</td>\n",
       "      <td>0.0</td>\n",
       "      <td>0.000</td>\n",
       "      <td>0.0</td>\n",
       "      <td>0.0</td>\n",
       "      <td>0.0</td>\n",
       "      <td>0</td>\n",
       "      <td>10</td>\n",
       "      <td>-1</td>\n",
       "      <td>3</td>\n",
       "    </tr>\n",
       "    <tr>\n",
       "      <th>85400</th>\n",
       "      <td>231564</td>\n",
       "      <td>26.0</td>\n",
       "      <td>1993664</td>\n",
       "      <td>1330</td>\n",
       "      <td>0.0</td>\n",
       "      <td>0.0</td>\n",
       "      <td>0.0</td>\n",
       "      <td>0.0</td>\n",
       "      <td>0.0</td>\n",
       "      <td>0.0</td>\n",
       "      <td>...</td>\n",
       "      <td>0.0</td>\n",
       "      <td>4.2</td>\n",
       "      <td>0.000</td>\n",
       "      <td>0.0</td>\n",
       "      <td>0.0</td>\n",
       "      <td>0.0</td>\n",
       "      <td>0</td>\n",
       "      <td>6</td>\n",
       "      <td>1</td>\n",
       "      <td>3</td>\n",
       "    </tr>\n",
       "    <tr>\n",
       "      <th>147465</th>\n",
       "      <td>201565</td>\n",
       "      <td>25.0</td>\n",
       "      <td>7351541</td>\n",
       "      <td>1374</td>\n",
       "      <td>67.0</td>\n",
       "      <td>0.0</td>\n",
       "      <td>3.0</td>\n",
       "      <td>0.0</td>\n",
       "      <td>0.0</td>\n",
       "      <td>5.0</td>\n",
       "      <td>...</td>\n",
       "      <td>0.0</td>\n",
       "      <td>0.0</td>\n",
       "      <td>4.715</td>\n",
       "      <td>0.0</td>\n",
       "      <td>0.0</td>\n",
       "      <td>0.0</td>\n",
       "      <td>0</td>\n",
       "      <td>11</td>\n",
       "      <td>-1</td>\n",
       "      <td>1</td>\n",
       "    </tr>\n",
       "    <tr>\n",
       "      <th>93950</th>\n",
       "      <td>140238</td>\n",
       "      <td>13.0</td>\n",
       "      <td>6336587</td>\n",
       "      <td>229</td>\n",
       "      <td>0.0</td>\n",
       "      <td>0.0</td>\n",
       "      <td>0.0</td>\n",
       "      <td>0.0</td>\n",
       "      <td>0.0</td>\n",
       "      <td>0.0</td>\n",
       "      <td>...</td>\n",
       "      <td>0.0</td>\n",
       "      <td>0.0</td>\n",
       "      <td>0.000</td>\n",
       "      <td>0.0</td>\n",
       "      <td>0.0</td>\n",
       "      <td>0.0</td>\n",
       "      <td>5</td>\n",
       "      <td>12</td>\n",
       "      <td>-1</td>\n",
       "      <td>0</td>\n",
       "    </tr>\n",
       "  </tbody>\n",
       "</table>\n",
       "<p>5 rows × 52 columns</p>\n",
       "</div>"
      ],
      "text/plain": [
       "            id  age_indicator  student_id  program_id  spent_time_total  \\\n",
       "185667  142763            3.0     6933216         549              40.0   \n",
       "143045  168772           14.0     6770745         643               0.0   \n",
       "85400   231564           26.0     1993664        1330               0.0   \n",
       "147465  201565           25.0     7351541        1374              67.0   \n",
       "93950   140238           13.0     6336587         229               0.0   \n",
       "\n",
       "        spent_time_to_complete_hw  completed_hw  failed_hw  reworked_hw  \\\n",
       "185667                        0.0           0.0        0.0          0.0   \n",
       "143045                        0.0           0.0        0.0          0.0   \n",
       "85400                         0.0           0.0        0.0          0.0   \n",
       "147465                        0.0           3.0        0.0          0.0   \n",
       "93950                         0.0           0.0        0.0          0.0   \n",
       "\n",
       "        interacted_hw  ...  support_feedback_avg  feedback_avg_d1  \\\n",
       "185667            2.0  ...                   0.0              0.0   \n",
       "143045            0.0  ...                   0.0              0.0   \n",
       "85400             0.0  ...                   0.0              4.2   \n",
       "147465            5.0  ...                   0.0              0.0   \n",
       "93950             0.0  ...                   0.0              0.0   \n",
       "\n",
       "        feedback_avg_d2  feedback_avg_d3  feedback_avg_d4  feedback_avg_d5  \\\n",
       "185667            0.000              0.0              5.0              0.0   \n",
       "143045            0.000              0.0              0.0              0.0   \n",
       "85400             0.000              0.0              0.0              0.0   \n",
       "147465            4.715              0.0              0.0              0.0   \n",
       "93950             0.000              0.0              0.0              0.0   \n",
       "\n",
       "        target  month  promo_bin  ABC_num  \n",
       "185667       0      9         -1        3  \n",
       "143045       0     10         -1        3  \n",
       "85400        0      6          1        3  \n",
       "147465       0     11         -1        1  \n",
       "93950        5     12         -1        0  \n",
       "\n",
       "[5 rows x 52 columns]"
      ]
     },
     "execution_count": 15,
     "metadata": {},
     "output_type": "execute_result"
    }
   ],
   "source": [
    "tr_data, te_data = train_test_split(\n",
    "    df,\n",
    "    test_size=TEST_SIZE,\n",
    "    stratify=df[TARGET_NAME],\n",
    "    random_state=RANDOM_STATE\n",
    ")\n",
    "\n",
    "print(f'Data splitted. Parts sizes: tr_data = {tr_data.shape}, te_data = {te_data.shape}')\n",
    "\n",
    "tr_data.head()"
   ]
  },
  {
   "cell_type": "code",
   "execution_count": 16,
   "metadata": {
    "executionInfo": {
     "elapsed": 423,
     "status": "ok",
     "timestamp": 1659607904916,
     "user": {
      "displayName": "Алексей Кучин",
      "userId": "12080689064090485602"
     },
     "user_tz": -300
    },
    "id": "YLsmNHARhJOo"
   },
   "outputs": [],
   "source": [
    "task = Task('multiclass')\n",
    "roles = {\n",
    "    'target': TARGET_NAME\n",
    "}\n",
    "\n",
    "automl = TabularAutoML(\n",
    "    task = task,\n",
    "    timeout = TIMEOUT,\n",
    "    cpu_limit = N_THREADS,\n",
    "    reader_params = {'n_jobs': N_THREADS, 'cv': N_FOLDS, 'random_state': RANDOM_STATE}\n",
    ")"
   ]
  },
  {
   "cell_type": "code",
   "execution_count": 17,
   "metadata": {
    "colab": {
     "base_uri": "https://localhost:8080/",
     "height": 831
    },
    "executionInfo": {
     "elapsed": 906,
     "status": "error",
     "timestamp": 1659607923449,
     "user": {
      "displayName": "Алексей Кучин",
      "userId": "12080689064090485602"
     },
     "user_tz": -300
    },
    "id": "-ewFEvh1h7UC",
    "outputId": "01675af1-0084-40c6-99b1-46f81af4de2d"
   },
   "outputs": [
    {
     "name": "stdout",
     "output_type": "stream",
     "text": [
      "[15:14:32] Stdout logging level is INFO.\n",
      "[15:14:32] Copying TaskTimer may affect the parent PipelineTimer, so copy will create new unlimited TaskTimer\n",
      "[15:14:32] Task: multiclass\n",
      "\n",
      "[15:14:32] Start automl preset with listed constraints:\n",
      "[15:14:32] - time: 500.00 seconds\n",
      "[15:14:32] - CPU: 4 cores\n",
      "[15:14:32] - memory: 16 GB\n",
      "\n",
      "[15:14:32] \u001b[1mTrain data shape: (160000, 52)\u001b[0m\n",
      "\n",
      "[15:14:45] Layer \u001b[1m1\u001b[0m train process start. Time left 486.48 secs\n",
      "[15:14:51] Start fitting \u001b[1mLvl_0_Pipe_0_Mod_0_LinearL2\u001b[0m ...\n",
      "[15:17:25] Time limit exceeded after calculating fold 0\n",
      "\n",
      "[15:17:25] Fitting \u001b[1mLvl_0_Pipe_0_Mod_0_LinearL2\u001b[0m finished. score = \u001b[1m-0.26530964959055797\u001b[0m\n",
      "[15:17:25] \u001b[1mLvl_0_Pipe_0_Mod_0_LinearL2\u001b[0m fitting and predicting completed\n",
      "[15:17:25] Time left 326.79 secs\n",
      "\n",
      "[15:20:56] \u001b[1mSelector_LightGBM\u001b[0m fitting and predicting completed\n",
      "[15:21:03] Start fitting \u001b[1mLvl_0_Pipe_1_Mod_0_LightGBM\u001b[0m ...\n",
      "[15:24:40] Time limit exceeded after calculating fold 0\n",
      "\n",
      "[15:24:40] Fitting \u001b[1mLvl_0_Pipe_1_Mod_0_LightGBM\u001b[0m finished. score = \u001b[1m-0.16972531105567631\u001b[0m\n",
      "[15:24:40] \u001b[1mLvl_0_Pipe_1_Mod_0_LightGBM\u001b[0m fitting and predicting completed\n",
      "[15:24:40] Time left -108.19 secs\n",
      "\n",
      "[15:24:40] Time limit exceeded. Last level models will be blended and unused pipelines will be pruned.\n",
      "\n",
      "[15:24:40] \u001b[1mLayer 1 training completed.\u001b[0m\n",
      "\n",
      "[15:24:40] Blending: optimization starts with equal weights and score \u001b[1m-0.18859277330317772\u001b[0m\n",
      "[15:24:40] Blending: iteration \u001b[1m0\u001b[0m: score = \u001b[1m-0.16775056731631144\u001b[0m, weights = \u001b[1m[0.09016994 0.90983003]\u001b[0m\n",
      "[15:24:41] Blending: iteration \u001b[1m1\u001b[0m: score = \u001b[1m-0.16775056731631144\u001b[0m, weights = \u001b[1m[0.09016994 0.90983003]\u001b[0m\n",
      "[15:24:41] Blending: no score update. Terminated\n",
      "\n",
      "[15:24:41] \u001b[1mAutoml preset training completed in 609.47 seconds\u001b[0m\n",
      "\n",
      "[15:24:41] Model description:\n",
      "Final prediction for new objects (level 0) = \n",
      "\t 0.09017 * (1 averaged models Lvl_0_Pipe_0_Mod_0_LinearL2) +\n",
      "\t 0.90983 * (1 averaged models Lvl_0_Pipe_1_Mod_0_LightGBM) \n",
      "\n",
      "Wall time: 10min 9s\n"
     ]
    }
   ],
   "source": [
    "%%time\n",
    "\n",
    "oof_pred = automl.fit_predict(tr_data, roles = roles, verbose = 1)"
   ]
  },
  {
   "cell_type": "code",
   "execution_count": 18,
   "metadata": {
    "id": "1ypNSGoK2czB"
   },
   "outputs": [
    {
     "name": "stdout",
     "output_type": "stream",
     "text": [
      "Prediction for te_data:\n",
      "array([[9.90185022e-01, 4.11859294e-03, 3.52807867e-04, 3.10509786e-05,\n",
      "        5.13206189e-03, 1.80394331e-04],\n",
      "       [7.52765462e-02, 9.18743968e-01, 1.15737098e-03, 3.09123634e-03,\n",
      "        7.41992029e-04, 9.88815096e-04],\n",
      "       [9.88224268e-01, 1.14649311e-02, 7.87004174e-05, 7.35549111e-05,\n",
      "        3.48902176e-05, 1.23602164e-04],\n",
      "       ...,\n",
      "       [9.99307215e-01, 5.16731292e-04, 4.75311572e-05, 2.12256036e-05,\n",
      "        5.73034704e-05, 5.00082206e-05],\n",
      "       [9.99278188e-01, 1.03522143e-04, 2.84976704e-06, 1.33024341e-05,\n",
      "        6.14673918e-05, 5.40601846e-04],\n",
      "       [9.78815913e-01, 1.92782674e-02, 1.08199274e-04, 4.52221793e-05,\n",
      "        1.67225045e-03, 8.00943235e-05]], dtype=float32)\n",
      "Shape = (40000, 6)\n",
      "Wall time: 41.5 s\n"
     ]
    }
   ],
   "source": [
    "%%time\n",
    "\n",
    "te_pred = automl.predict(te_data)\n",
    "print(f'Prediction for te_data:\\n{te_pred}\\nShape = {te_pred.shape}')"
   ]
  },
  {
   "cell_type": "markdown",
   "metadata": {
    "id": "aqxTaUVm2iiP"
   },
   "source": [
    "## Оценим точность"
   ]
  },
  {
   "cell_type": "code",
   "execution_count": 19,
   "metadata": {
    "colab": {
     "base_uri": "https://localhost:8080/"
    },
    "id": "Vz2JrMW32m3N",
    "outputId": "3056b516-013c-4b58-e1f1-f203feab9a2a"
   },
   "outputs": [
    {
     "data": {
      "text/plain": [
       "0.8448196283849545"
      ]
     },
     "execution_count": 19,
     "metadata": {},
     "output_type": "execute_result"
    }
   ],
   "source": [
    "y_test = te_data[TARGET_NAME].values\n",
    "pred = np.argmax(te_pred.data, axis=1)\n",
    "0.2* recall_score(y_test, pred, average='macro') + 0.8* precision_score(y_test, pred, average='macro')"
   ]
  },
  {
   "cell_type": "code",
   "execution_count": 20,
   "metadata": {
    "id": "6AAz36rUYAbv",
    "outputId": "806dbae3-177d-4955-8034-c0943d5ac6a7"
   },
   "outputs": [
    {
     "data": {
      "text/plain": [
       "0.6371593363051463"
      ]
     },
     "execution_count": 20,
     "metadata": {},
     "output_type": "execute_result"
    }
   ],
   "source": [
    "recall_score(y_test, pred, average='macro')"
   ]
  },
  {
   "cell_type": "code",
   "execution_count": 21,
   "metadata": {
    "id": "R_jC6CTEYAbw",
    "outputId": "acb3d5ae-a94b-4b29-8f11-0d7af4013217"
   },
   "outputs": [
    {
     "data": {
      "text/plain": [
       "0.8967347014049064"
      ]
     },
     "execution_count": 21,
     "metadata": {},
     "output_type": "execute_result"
    }
   ],
   "source": [
    "precision_score(y_test, pred, average='macro')"
   ]
  },
  {
   "cell_type": "markdown",
   "metadata": {},
   "source": [
    "## Сделаем прогноз на тестовых данных"
   ]
  },
  {
   "cell_type": "code",
   "execution_count": 22,
   "metadata": {},
   "outputs": [],
   "source": [
    "df_test = pd.read_csv(\"case_files.csv\")"
   ]
  },
  {
   "cell_type": "code",
   "execution_count": 23,
   "metadata": {},
   "outputs": [],
   "source": [
    "df_test = df_test.fillna(0)\n",
    "\n",
    "df_test.astype({'month_id': str})\n",
    "df_test['month'] = df_test['month_id'].apply(lambda x: int(x.split('/')[0]))\n",
    "\n",
    "df_test['promo_bin'] = df_test['promo'].apply(lambda x: -1 if str(x)=='-' else 1)\n",
    "\n",
    "df_test['ABC_num'] = df_test['ABC'].apply(lambda x: ord(x)-ord('A'))\n",
    "\n",
    "df_test = df_test.drop(mass_object, axis = 1)"
   ]
  },
  {
   "cell_type": "code",
   "execution_count": 24,
   "metadata": {},
   "outputs": [
    {
     "name": "stdout",
     "output_type": "stream",
     "text": [
      "Wall time: 1min 28s\n"
     ]
    },
    {
     "data": {
      "text/plain": [
       "array([0, 0, 0, ..., 0, 0, 0], dtype=int64)"
      ]
     },
     "execution_count": 24,
     "metadata": {},
     "output_type": "execute_result"
    }
   ],
   "source": [
    "%%time\n",
    "\n",
    "test_pred = automl.predict(df_test)\n",
    "test_pred = np.argmax(test_pred.data, axis=1)\n",
    "test_pred"
   ]
  },
  {
   "cell_type": "code",
   "execution_count": 25,
   "metadata": {},
   "outputs": [
    {
     "data": {
      "text/plain": [
       "target\n",
       "0         78070\n",
       "1          3693\n",
       "4          1003\n",
       "5           935\n",
       "3           897\n",
       "2           399\n",
       "dtype: int64"
      ]
     },
     "execution_count": 25,
     "metadata": {},
     "output_type": "execute_result"
    }
   ],
   "source": [
    "df_test['target']=test_pred\n",
    "df_test[['target']].value_counts()"
   ]
  },
  {
   "cell_type": "code",
   "execution_count": 26,
   "metadata": {},
   "outputs": [],
   "source": [
    "df_test[['id', 'target']].to_csv(r'out2.csv', index = False, header = True)"
   ]
  },
  {
   "cell_type": "code",
   "execution_count": null,
   "metadata": {},
   "outputs": [],
   "source": []
  }
 ],
 "metadata": {
  "colab": {
   "collapsed_sections": [],
   "name": "Вариант 1.ipynb",
   "provenance": []
  },
  "kernelspec": {
   "display_name": "Python 3",
   "language": "python",
   "name": "python3"
  },
  "language_info": {
   "codemirror_mode": {
    "name": "ipython",
    "version": 3
   },
   "file_extension": ".py",
   "mimetype": "text/x-python",
   "name": "python",
   "nbconvert_exporter": "python",
   "pygments_lexer": "ipython3",
   "version": "3.8.5"
  }
 },
 "nbformat": 4,
 "nbformat_minor": 1
}
